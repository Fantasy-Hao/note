{
 "cells": [
  {
   "metadata": {},
   "cell_type": "markdown",
   "source": [
    "# Halton采样\n",
    "scipy.stats.qmc.Halton的random()方法会自动维护序列的状态，每次调用random(n)都会生成下一组不重复的点，确保不会重复使用采样点。\n",
    "\n",
    "与Python不同的是，MATLAB中需要显式设置Skip来避免重复使用点。但在MATLAB中，不论是否进行scramble，生成的第一组点永远是0，可以使用Skip对0进行跳过。\n",
    "\n",
    "目前无法确认scipy.stats.qmc.Halton中设置scramble=True是否会生成0。"
   ],
   "id": "c3a11e3f3a4a1e04"
  },
  {
   "cell_type": "code",
   "id": "initial_id",
   "metadata": {
    "collapsed": true,
    "ExecuteTime": {
     "end_time": "2025-03-05T02:05:15.053382Z",
     "start_time": "2025-03-05T02:05:15.038871Z"
    }
   },
   "source": [
    "import numpy as np\n",
    "from scipy.stats import qmc\n",
    "\n",
    "np.random.seed(42)"
   ],
   "outputs": [],
   "execution_count": 7
  },
  {
   "metadata": {
    "ExecuteTime": {
     "end_time": "2025-03-05T02:05:15.069356Z",
     "start_time": "2025-03-05T02:05:15.056373Z"
    }
   },
   "cell_type": "code",
   "source": "halton = qmc.Halton(5, scramble=True, seed=42)",
   "id": "5976f14b112ae6ec",
   "outputs": [],
   "execution_count": 8
  },
  {
   "metadata": {
    "ExecuteTime": {
     "end_time": "2025-03-05T02:05:15.100902Z",
     "start_time": "2025-03-05T02:05:15.085855Z"
    }
   },
   "cell_type": "code",
   "source": "halton.random(5)",
   "id": "be073cc7c3dda931",
   "outputs": [
    {
     "data": {
      "text/plain": [
       "array([[0.55130587, 0.73772158, 0.93945943, 0.4461684 , 0.58620524],\n",
       "       [0.05130587, 0.40438825, 0.53945943, 0.30331126, 0.67711433],\n",
       "       [0.80130587, 0.07105492, 0.73945943, 0.87473983, 0.04075069],\n",
       "       [0.30130587, 0.9599438 , 0.33945943, 0.58902555, 0.9498416 ],\n",
       "       [0.67630587, 0.62661047, 0.13945943, 0.16045412, 0.31347796]])"
      ]
     },
     "execution_count": 9,
     "metadata": {},
     "output_type": "execute_result"
    }
   ],
   "execution_count": 9
  },
  {
   "metadata": {
    "ExecuteTime": {
     "end_time": "2025-03-05T02:05:15.177874Z",
     "start_time": "2025-03-05T02:05:15.163904Z"
    }
   },
   "cell_type": "code",
   "source": "halton.random(5)",
   "id": "4771ab1dac77095a",
   "outputs": [
    {
     "data": {
      "text/plain": [
       "array([[0.17630587, 0.29327714, 0.81945943, 0.73188269, 0.49529614],\n",
       "       [0.92630587, 0.84883269, 0.41945943, 0.01759698, 0.22256887],\n",
       "       [0.42630587, 0.51549936, 0.61945943, 0.48698473, 0.40438705],\n",
       "       [0.61380587, 0.18216603, 0.21945943, 0.34412759, 0.85893251],\n",
       "       [0.11380587, 0.77475862, 0.01945943, 0.91555616, 0.13165978]])"
      ]
     },
     "execution_count": 10,
     "metadata": {},
     "output_type": "execute_result"
    }
   ],
   "execution_count": 10
  },
  {
   "metadata": {
    "ExecuteTime": {
     "end_time": "2025-03-05T02:05:15.255418Z",
     "start_time": "2025-03-05T02:05:15.240774Z"
    }
   },
   "cell_type": "code",
   "source": "halton.reset()",
   "id": "229b57207f9c16e5",
   "outputs": [
    {
     "data": {
      "text/plain": [
       "<scipy.stats._qmc.Halton at 0x2017f8774f0>"
      ]
     },
     "execution_count": 11,
     "metadata": {},
     "output_type": "execute_result"
    }
   ],
   "execution_count": 11
  },
  {
   "metadata": {
    "ExecuteTime": {
     "end_time": "2025-03-05T02:05:15.332182Z",
     "start_time": "2025-03-05T02:05:15.313712Z"
    }
   },
   "cell_type": "code",
   "source": "halton.random(10)",
   "id": "7efa508ec879192d",
   "outputs": [
    {
     "data": {
      "text/plain": [
       "array([[0.55130587, 0.73772158, 0.93945943, 0.4461684 , 0.58620524],\n",
       "       [0.05130587, 0.40438825, 0.53945943, 0.30331126, 0.67711433],\n",
       "       [0.80130587, 0.07105492, 0.73945943, 0.87473983, 0.04075069],\n",
       "       [0.30130587, 0.9599438 , 0.33945943, 0.58902555, 0.9498416 ],\n",
       "       [0.67630587, 0.62661047, 0.13945943, 0.16045412, 0.31347796],\n",
       "       [0.17630587, 0.29327714, 0.81945943, 0.73188269, 0.49529614],\n",
       "       [0.92630587, 0.84883269, 0.41945943, 0.01759698, 0.22256887],\n",
       "       [0.42630587, 0.51549936, 0.61945943, 0.48698473, 0.40438705],\n",
       "       [0.61380587, 0.18216603, 0.21945943, 0.34412759, 0.85893251],\n",
       "       [0.11380587, 0.77475862, 0.01945943, 0.91555616, 0.13165978]])"
      ]
     },
     "execution_count": 12,
     "metadata": {},
     "output_type": "execute_result"
    }
   ],
   "execution_count": 12
  }
 ],
 "metadata": {
  "kernelspec": {
   "display_name": "Python 3",
   "language": "python",
   "name": "python3"
  },
  "language_info": {
   "codemirror_mode": {
    "name": "ipython",
    "version": 2
   },
   "file_extension": ".py",
   "mimetype": "text/x-python",
   "name": "python",
   "nbconvert_exporter": "python",
   "pygments_lexer": "ipython2",
   "version": "2.7.6"
  }
 },
 "nbformat": 4,
 "nbformat_minor": 5
}
