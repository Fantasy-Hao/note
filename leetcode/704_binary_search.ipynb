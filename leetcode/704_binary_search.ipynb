{
 "cells": [
  {
   "cell_type": "markdown",
   "metadata": {},
   "source": [
    "# 二分查找\n",
    "\n",
    "时间复杂度：O(log n)\n",
    "\n",
    "空间复杂度：O(1)"
   ]
  },
  {
   "cell_type": "markdown",
   "metadata": {},
   "source": [
    "## 左闭右闭区间"
   ]
  },
  {
   "cell_type": "code",
   "execution_count": null,
   "metadata": {},
   "outputs": [],
   "source": [
    "class Solution:\n",
    "    def search(self, nums: List[int], target: int) -> int:\n",
    "        left, right = 0, len(nums) - 1  # 定义target在左闭右闭的区间里，[left, right]\n",
    "\n",
    "        while left <= right:\n",
    "            middle = left + (right - left) // 2\n",
    "            \n",
    "            if nums[middle] > target:\n",
    "                right = middle - 1  # target在左区间，所以[left, middle - 1]\n",
    "            elif nums[middle] < target:\n",
    "                left = middle + 1  # target在右区间，所以[middle + 1, right]\n",
    "            else:\n",
    "                return middle  # 数组中找到目标值，直接返回下标\n",
    "        return -1  # 未找到目标值"
   ]
  },
  {
   "cell_type": "markdown",
   "metadata": {},
   "source": [
    "## 左闭右开区间"
   ]
  },
  {
   "cell_type": "code",
   "execution_count": null,
   "metadata": {},
   "outputs": [],
   "source": [
    "class Solution:\n",
    "    def search(self, nums: List[int], target: int) -> int:\n",
    "        left, right = 0, len(nums)  # 定义target在左闭右开的区间里，即：[left, right)\n",
    "\n",
    "        while left < right:  # 因为left == right的时候，在[left, right)是无效的空间，所以使用 <\n",
    "            middle = left + (right - left) // 2\n",
    "\n",
    "            if nums[middle] > target:\n",
    "                right = middle  # target 在左区间，在[left, middle)中\n",
    "            elif nums[middle] < target:\n",
    "                left = middle + 1  # target 在右区间，在[middle + 1, right)中\n",
    "            else:\n",
    "                return middle  # 数组中找到目标值，直接返回下标\n",
    "        return -1  # 未找到目标值"
   ]
  }
 ],
 "metadata": {
  "language_info": {
   "name": "python"
  }
 },
 "nbformat": 4,
 "nbformat_minor": 2
}
