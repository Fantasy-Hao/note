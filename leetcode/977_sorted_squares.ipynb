{
 "cells": [
  {
   "cell_type": "markdown",
   "metadata": {},
   "source": [
    "# 有序数组的平方"
   ]
  },
  {
   "cell_type": "markdown",
   "metadata": {},
   "source": [
    "## 双指针法  \n",
    "时间复杂度为O(n)"
   ]
  },
  {
   "cell_type": "code",
   "execution_count": null,
   "metadata": {},
   "outputs": [],
   "source": [
    "class Solution:\n",
    "    def sortedSquares(self, nums: List[int]) -> List[int]:\n",
    "        l, r = 0, len(nums) - 1\n",
    "        i = len(nums) - 1\n",
    "        res = [float('inf')] * len(nums)\n",
    "        while l <= r:\n",
    "            if nums[l] ** 2 > nums[r] ** 2:\n",
    "                res[i] = nums[l] **2\n",
    "                l += 1\n",
    "            else:\n",
    "                res[i] = nums[r] ** 2\n",
    "                r -= 1\n",
    "            i -= 1\n",
    "        return res"
   ]
  }
 ],
 "metadata": {
  "kernelspec": {
   "display_name": "Python 3",
   "language": "python",
   "name": "python3"
  },
  "language_info": {
   "codemirror_mode": {
    "name": "ipython",
    "version": 3
   },
   "file_extension": ".py",
   "mimetype": "text/x-python",
   "name": "python",
   "nbconvert_exporter": "python",
   "pygments_lexer": "ipython3",
   "version": "3.9.20"
  }
 },
 "nbformat": 4,
 "nbformat_minor": 2
}
