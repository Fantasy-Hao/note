{
 "cells": [
  {
   "cell_type": "markdown",
   "metadata": {},
   "source": [
    "# 移除元素"
   ]
  },
  {
   "cell_type": "markdown",
   "metadata": {},
   "source": [
    "## 暴力法\n",
    "\n",
    "时间复杂度：O(n^2)\n",
    "\n",
    "空间复杂度：O(1)"
   ]
  },
  {
   "cell_type": "code",
   "execution_count": null,
   "metadata": {},
   "outputs": [],
   "source": [
    "class Solution:\n",
    "    def removeElement(self, nums: List[int], val: int) -> int:\n",
    "        i, l = 0, len(nums)\n",
    "        while i < l:\n",
    "            if nums[i] == val: # 找到等于目标值的节点\n",
    "                for j in range(i+1, l): # 移除该元素，并将后面元素向前平移\n",
    "                    nums[j - 1] = nums[j]\n",
    "                l -= 1\n",
    "                i -= 1\n",
    "            i += 1\n",
    "        return l"
   ]
  },
  {
   "cell_type": "markdown",
   "metadata": {},
   "source": [
    "## 同向双指针法\n",
    "\n",
    "时间复杂度 O(n)\n",
    "\n",
    "空间复杂度 O(1)"
   ]
  },
  {
   "cell_type": "code",
   "execution_count": null,
   "metadata": {},
   "outputs": [],
   "source": [
    "class Solution:\n",
    "    def removeElement(self, nums: List[int], val: int) -> int:\n",
    "        # 快慢指针\n",
    "        fast = 0  # 快指针\n",
    "        slow = 0  # 慢指针\n",
    "        size = len(nums)\n",
    "        while fast < size:  # 不加等于是因为，a = size 时，nums[a] 会越界\n",
    "            # slow 用来收集不等于 val 的值，如果 fast 对应值不等于 val，则把它与 slow 替换\n",
    "            if nums[fast] != val:\n",
    "                nums[slow] = nums[fast]\n",
    "                slow += 1\n",
    "            fast += 1\n",
    "        return slow"
   ]
  },
  {
   "cell_type": "markdown",
   "metadata": {},
   "source": [
    "## 相向双指针法\n",
    "\n",
    "时间复杂度 O(n)\n",
    "\n",
    "空间复杂度 O(1)"
   ]
  },
  {
   "cell_type": "code",
   "execution_count": null,
   "metadata": {},
   "outputs": [],
   "source": [
    "class Solution:\n",
    "    def removeElement(self, nums: List[int], val: int) -> int:\n",
    "        n = len(nums)\n",
    "        left, right  = 0, n - 1\n",
    "        while left <= right:\n",
    "            while left <= right and nums[left] != val:\n",
    "                left += 1\n",
    "            while left <= right and nums[right] == val:\n",
    "                right -= 1\n",
    "            if left < right:\n",
    "                nums[left] = nums[right]\n",
    "                left += 1\n",
    "                right -= 1\n",
    "        return left"
   ]
  }
 ],
 "metadata": {
  "kernelspec": {
   "display_name": "Python 3",
   "language": "python",
   "name": "python3"
  },
  "language_info": {
   "codemirror_mode": {
    "name": "ipython",
    "version": 3
   },
   "file_extension": ".py",
   "mimetype": "text/x-python",
   "name": "python",
   "nbconvert_exporter": "python",
   "pygments_lexer": "ipython3",
   "version": "3.9.20"
  }
 },
 "nbformat": 4,
 "nbformat_minor": 2
}
