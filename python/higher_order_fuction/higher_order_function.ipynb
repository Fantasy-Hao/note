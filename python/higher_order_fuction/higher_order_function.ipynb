{
 "cells": [
  {
   "cell_type": "markdown",
   "metadata": {},
   "source": [
    "# Python 高阶函数"
   ]
  },
  {
   "cell_type": "markdown",
   "metadata": {},
   "source": [
    " > [Python 高阶函数map、reduce、filter、sorted](https://blog.csdn.net/longforone/article/details/141713453)"
   ]
  },
  {
   "cell_type": "markdown",
   "metadata": {},
   "source": [
    "高阶函数（Higher-Order Function）是指能够接收函数作为参数，或者将函数作为返回值的函数。Python 内置了多种高阶函数，它们为我们提供了编写简洁代码的能力。"
   ]
  },
  {
   "cell_type": "markdown",
   "metadata": {},
   "source": [
    "## lambda函数"
   ]
  },
  {
   "cell_type": "markdown",
   "metadata": {},
   "source": [
    "*lambda arguments: expression*\n",
    "\n",
    "arguments：函数的参数，可以是多个，用逗号分隔。  \n",
    "expression：一个简单的表达式，该表达式的计算结果将作为返回值。"
   ]
  },
  {
   "cell_type": "code",
   "execution_count": 1,
   "metadata": {},
   "outputs": [
    {
     "name": "stdout",
     "output_type": "stream",
     "text": [
      "25\n"
     ]
    }
   ],
   "source": [
    "# 定义一个计算平方的 lambda 函数\n",
    "square = lambda x: x ** 2\n",
    "print(square(5))  # 输出: 25"
   ]
  },
  {
   "cell_type": "markdown",
   "metadata": {},
   "source": [
    "## map函数"
   ]
  },
  {
   "cell_type": "markdown",
   "metadata": {},
   "source": [
    "map 函数用于将一个函数应用到一个或多个可迭代对象（如列表、元组等）的每一个元素上，并返回一个新的可迭代对象。\n",
    "\n",
    "*map(function, iterable, ...)*\n",
    "\n",
    "function：应用到每个元素的函数。  \n",
    "iterable：可迭代对象，可以是一个或多个。"
   ]
  },
  {
   "cell_type": "markdown",
   "metadata": {},
   "source": [
    "### 单个可迭代对象"
   ]
  },
  {
   "cell_type": "markdown",
   "metadata": {},
   "source": [
    "将列表中的每个元素平方"
   ]
  },
  {
   "cell_type": "code",
   "execution_count": 2,
   "metadata": {},
   "outputs": [
    {
     "name": "stdout",
     "output_type": "stream",
     "text": [
      "[1, 4, 9, 16]\n"
     ]
    }
   ],
   "source": [
    "numbers = [1, 2, 3, 4]\n",
    "squared = map(lambda x: x ** 2, numbers)\n",
    "print(list(squared))  # 输出: [1, 4, 9, 16]"
   ]
  },
  {
   "cell_type": "markdown",
   "metadata": {},
   "source": [
    "### 多个可迭代对象"
   ]
  },
  {
   "cell_type": "markdown",
   "metadata": {},
   "source": [
    "将两个列表中对应的元素相加"
   ]
  },
  {
   "cell_type": "code",
   "execution_count": 3,
   "metadata": {},
   "outputs": [
    {
     "name": "stdout",
     "output_type": "stream",
     "text": [
      "[5, 7, 9]\n"
     ]
    }
   ],
   "source": [
    "list1 = [1, 2, 3]\n",
    "list2 = [4, 5, 6]\n",
    "sum_list = map(lambda x, y: x + y, list1, list2)\n",
    "print(list(sum_list))  # 输出: [5, 7, 9]"
   ]
  },
  {
   "cell_type": "markdown",
   "metadata": {},
   "source": [
    "### 处理用户输入"
   ]
  },
  {
   "cell_type": "markdown",
   "metadata": {},
   "source": [
    "从用户输入中读取数字并进行求和"
   ]
  },
  {
   "cell_type": "code",
   "execution_count": 4,
   "metadata": {},
   "outputs": [
    {
     "name": "stdout",
     "output_type": "stream",
     "text": [
      "输入数字的和是: 15\n"
     ]
    }
   ],
   "source": [
    "numbers = map(lambda x: eval(x), input(\"输入一串数字，用空格分隔: \").split())\n",
    "total_sum = sum(numbers)\n",
    "print(f\"输入数字的和是: {total_sum}\")"
   ]
  },
  {
   "cell_type": "markdown",
   "metadata": {},
   "source": [
    "## reduce函数"
   ]
  },
  {
   "cell_type": "markdown",
   "metadata": {},
   "source": [
    "reduce 函数用于对一个序列进行累计计算。它逐步将序列中的元素进行二元操作，最后将其归约为一个单一的值。简单的说，就是取序列第一个元素和第二个元素进行处理，得到的新元素再与下一个元素进行操作，直到处理完所有元素。\n",
    "\n",
    "*reduce(function, iterable[, initializer])*\n",
    "\n",
    "function：应用于序列的二元函数。  \n",
    "iterable：要处理的可迭代对象。  \n",
    "initializer（可选）：初始值。"
   ]
  },
  {
   "cell_type": "markdown",
   "metadata": {},
   "source": [
    "计算列表中所有元素的乘积"
   ]
  },
  {
   "cell_type": "code",
   "execution_count": 5,
   "metadata": {},
   "outputs": [
    {
     "name": "stdout",
     "output_type": "stream",
     "text": [
      "24\n"
     ]
    }
   ],
   "source": [
    "from functools import reduce\n",
    "\n",
    "numbers = [1, 2, 3, 4]\n",
    "product = reduce(lambda x, y: x * y, numbers)\n",
    "print(product)  # 输出: 24"
   ]
  },
  {
   "cell_type": "markdown",
   "metadata": {},
   "source": [
    "## filter 函数"
   ]
  },
  {
   "cell_type": "markdown",
   "metadata": {},
   "source": [
    "filter 函数用于过滤序列中的元素，返回一个符合条件的新序列。语法如下：\n",
    "\n",
    "*filter(function, iterable)*\n",
    "\n",
    "function：用于判断元素是否保留的函数，返回 True 或 False。  \n",
    "iterable：要过滤的可迭代对象。"
   ]
  },
  {
   "cell_type": "markdown",
   "metadata": {},
   "source": [
    "过滤出列表中的偶数"
   ]
  },
  {
   "cell_type": "code",
   "execution_count": 6,
   "metadata": {},
   "outputs": [
    {
     "name": "stdout",
     "output_type": "stream",
     "text": [
      "[2, 4, 6]\n"
     ]
    }
   ],
   "source": [
    "numbers = [1, 2, 3, 4, 5, 6]\n",
    "evens = filter(lambda x: x % 2 == 0, numbers)\n",
    "print(list(evens))  # 输出: [2, 4, 6]"
   ]
  },
  {
   "cell_type": "markdown",
   "metadata": {},
   "source": [
    "求素数"
   ]
  },
  {
   "cell_type": "code",
   "execution_count": 7,
   "metadata": {},
   "outputs": [
    {
     "name": "stdout",
     "output_type": "stream",
     "text": [
      "[2, 3, 5, 7, 11, 13, 17, 19, 23, 29, 31, 37, 41, 43, 47, 53, 59, 61, 67, 71, 73, 79, 83, 89, 97]\n"
     ]
    }
   ],
   "source": [
    "number = list(range(2, 100))\n",
    "num = 2\n",
    "while num <= 100:\n",
    "    number = list(filter(lambda x: x == num or x % num, number))\n",
    "    num += 1\n",
    "print(list(number))"
   ]
  },
  {
   "cell_type": "markdown",
   "metadata": {},
   "source": [
    "## sorted函数"
   ]
  },
  {
   "cell_type": "markdown",
   "metadata": {},
   "source": [
    "sorted 函数用于对可迭代对象进行排序，并返回一个新的排序列表。sorted 函数使用了timsort算法，是一个高效且稳定的排序算法。\n",
    "\n",
    "*sorted(iterable, key=None, reverse=False)*\n",
    "\n",
    "iterable：要排序的可迭代对象。  \n",
    "key（可选）：一个函数，用于从每个元素中提取用于排序的关键字。  \n",
    "reverse（可选）：一个布尔值，指定排序是否为降序，默认升序。"
   ]
  },
  {
   "cell_type": "markdown",
   "metadata": {},
   "source": [
    "按照绝对值大小排序列表"
   ]
  },
  {
   "cell_type": "code",
   "execution_count": 8,
   "metadata": {},
   "outputs": [
    {
     "name": "stdout",
     "output_type": "stream",
     "text": [
      "[0, -1, 2, 3, -5, -8]\n"
     ]
    }
   ],
   "source": [
    "numbers = [-5, 2, -1, 0, 3, -8]\n",
    "sorted_numbers = sorted(numbers, key=lambda x: abs(x))\n",
    "print(sorted_numbers)  # 输出: [0, -1, 2, 3, -5, -8]"
   ]
  },
  {
   "cell_type": "markdown",
   "metadata": {},
   "source": [
    "## 综合示例"
   ]
  },
  {
   "cell_type": "markdown",
   "metadata": {},
   "source": [
    "计算一个列表中所有偶数的平方和，并按降序排列："
   ]
  },
  {
   "cell_type": "code",
   "execution_count": 9,
   "metadata": {},
   "outputs": [
    {
     "name": "stdout",
     "output_type": "stream",
     "text": [
      "[36, 16, 4]\n",
      "56\n"
     ]
    }
   ],
   "source": [
    "from functools import reduce\n",
    "\n",
    "numbers = [1, 2, 3, 4, 5, 6]\n",
    "evens = filter(lambda x: x % 2 == 0, numbers)\n",
    "squared_evens = map(lambda x: x ** 2, evens)\n",
    "sorted_squares = sorted(squared_evens, reverse=True)\n",
    "sum_of_squares = reduce(lambda x, y: x + y, sorted_squares)\n",
    "\n",
    "print(sorted_squares)  # 输出: [36, 16, 4]\n",
    "print(sum_of_squares)  # 输出: 56"
   ]
  }
 ],
 "metadata": {
  "kernelspec": {
   "display_name": "torch2",
   "language": "python",
   "name": "python3"
  },
  "language_info": {
   "codemirror_mode": {
    "name": "ipython",
    "version": 3
   },
   "file_extension": ".py",
   "mimetype": "text/x-python",
   "name": "python",
   "nbconvert_exporter": "python",
   "pygments_lexer": "ipython3",
   "version": "3.9.21"
  }
 },
 "nbformat": 4,
 "nbformat_minor": 2
}
