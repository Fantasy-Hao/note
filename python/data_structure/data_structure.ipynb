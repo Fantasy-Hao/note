{
 "cells": [
  {
   "cell_type": "markdown",
   "metadata": {},
   "source": [
    "# Python数据结构"
   ]
  },
  {
   "cell_type": "markdown",
   "metadata": {},
   "source": [
    "## 列表"
   ]
  },
  {
   "cell_type": "markdown",
   "metadata": {},
   "source": [
    "| 方法              | 描述                                                                                     |\n",
    "|-------------------|------------------------------------------------------------------------------------------|\n",
    "| `list.append(x)`  | 把一个元素添加到列表的结尾，相当于 `a[len(a):] = [x]`。                                   |\n",
    "| `list.extend(L)`  | 通过添加指定列表的所有元素来扩充列表，相当于 `a[len(a):] = L`。                           |\n",
    "| `list.insert(i, x)` | 在指定位置插入一个元素。第一个参数是准备插入到其前面的那个元素的索引，例如 `a.insert(0, x)` 会插入到整个列表之前，而 `a.insert(len(a), x)` 相当于 `a.append(x)`。 |\n",
    "| `list.remove(x)`  | 删除列表中值为 `x` 的第一个元素。如果没有这样的元素，就会返回一个错误。                  |\n",
    "| `list.pop([i])`   | 从列表的指定位置移除元素，并将其返回。如果没有指定索引，`a.pop()` 返回最后一个元素。元素随即从列表中被移除。 |\n",
    "| `list.clear()`    | 移除列表中的所有项，等于 `del a[:]`。                                                     |\n",
    "| `list.index(x)`   | 返回列表中第一个值为 `x` 的元素的索引。如果没有匹配的元素就会返回一个错误。               |\n",
    "| `list.count(x)`   | 返回 `x` 在列表中出现的次数。                                                            |\n",
    "| `list.sort()`     | 对列表中的元素进行排序。                                                                 |\n",
    "| `list.reverse()`  | 倒排列表中的元素。                                                                       |\n",
    "| `list.copy()`     | 返回列表的浅复制，等于 `a[:]`。"
   ]
  },
  {
   "cell_type": "markdown",
   "metadata": {},
   "source": [
    "### 将列表当做栈使用\n",
    "\n",
    "栈是一种后进先出（LIFO, Last-In-First-Out）数据结构，意味着最后添加的元素最先被移除。"
   ]
  },
  {
   "cell_type": "code",
   "execution_count": 1,
   "metadata": {},
   "outputs": [
    {
     "name": "stdout",
     "output_type": "stream",
     "text": [
      "栈顶元素: 3\n",
      "栈大小: 3\n",
      "弹出元素: 3\n",
      "栈是否为空: False\n",
      "栈大小: 2\n"
     ]
    }
   ],
   "source": [
    "class Stack:\n",
    "    def __init__(self):\n",
    "        self.stack = []\n",
    "\n",
    "    def push(self, item):\n",
    "        self.stack.append(item)\n",
    "\n",
    "    def pop(self):\n",
    "        if not self.is_empty():\n",
    "            return self.stack.pop()\n",
    "        else:\n",
    "            raise IndexError(\"pop from empty stack\")\n",
    "\n",
    "    def peek(self):\n",
    "        if not self.is_empty():\n",
    "            return self.stack[-1]\n",
    "        else:\n",
    "            raise IndexError(\"peek from empty stack\")\n",
    "\n",
    "    def is_empty(self):\n",
    "        return len(self.stack) == 0\n",
    "\n",
    "    def size(self):\n",
    "        return len(self.stack)\n",
    "\n",
    "# 使用示例\n",
    "stack = Stack()\n",
    "stack.push(1)\n",
    "stack.push(2)\n",
    "stack.push(3)\n",
    "\n",
    "print(\"栈顶元素:\", stack.peek())  # 输出: 栈顶元素: 3\n",
    "print(\"栈大小:\", stack.size())    # 输出: 栈大小: 3\n",
    "\n",
    "print(\"弹出元素:\", stack.pop())  # 输出: 弹出元素: 3\n",
    "print(\"栈是否为空:\", stack.is_empty())  # 输出: 栈是否为空: False\n",
    "print(\"栈大小:\", stack.size())    # 输出: 栈大小: 2"
   ]
  },
  {
   "cell_type": "markdown",
   "metadata": {},
   "source": [
    "### 将列表当作队列使用\n",
    "\n",
    "队列是一种先进先出（FIFO, First-In-First-Out）的数据结构，意味着最早添加的元素最先被移除。\n",
    "\n",
    "使用列表时，如果频繁地在列表的开头插入或删除元素，性能会受到影响，因为这些操作的时间复杂度是 O(n)。为了解决这个问题，Python 提供了 collections.deque，它是双端队列，可以在两端高效地添加和删除元素。"
   ]
  },
  {
   "cell_type": "code",
   "execution_count": 2,
   "metadata": {},
   "outputs": [
    {
     "name": "stdout",
     "output_type": "stream",
     "text": [
      "队列状态: deque(['a', 'b', 'c'])\n",
      "移除的元素: a\n",
      "队列状态: deque(['b', 'c'])\n",
      "队首元素: b\n",
      "队列是否为空: False\n",
      "队列大小: 2\n"
     ]
    }
   ],
   "source": [
    "from collections import deque\n",
    "\n",
    "# 创建一个空队列\n",
    "queue = deque()\n",
    "\n",
    "# 向队尾添加元素\n",
    "queue.append('a')\n",
    "queue.append('b')\n",
    "queue.append('c')\n",
    "\n",
    "print(\"队列状态:\", queue)  # 输出: 队列状态: deque(['a', 'b', 'c'])\n",
    "\n",
    "# 从队首移除元素\n",
    "first_element = queue.popleft()\n",
    "print(\"移除的元素:\", first_element)  # 输出: 移除的元素: a\n",
    "print(\"队列状态:\", queue)            # 输出: 队列状态: deque(['b', 'c'])\n",
    "\n",
    "# 查看队首元素（不移除）\n",
    "front_element = queue[0]\n",
    "print(\"队首元素:\", front_element)    # 输出: 队首元素: b\n",
    "\n",
    "# 检查队列是否为空\n",
    "is_empty = len(queue) == 0\n",
    "print(\"队列是否为空:\", is_empty)     # 输出: 队列是否为空: False\n",
    "\n",
    "# 获取队列大小\n",
    "size = len(queue)\n",
    "print(\"队列大小:\", size)            # 输出: 队列大小: 2"
   ]
  }
 ],
 "metadata": {
  "kernelspec": {
   "display_name": "torch2",
   "language": "python",
   "name": "python3"
  },
  "language_info": {
   "codemirror_mode": {
    "name": "ipython",
    "version": 3
   },
   "file_extension": ".py",
   "mimetype": "text/x-python",
   "name": "python",
   "nbconvert_exporter": "python",
   "pygments_lexer": "ipython3",
   "version": "3.9.21"
  }
 },
 "nbformat": 4,
 "nbformat_minor": 2
}
