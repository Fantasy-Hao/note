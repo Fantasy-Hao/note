{
 "cells": [
  {
   "cell_type": "markdown",
   "metadata": {},
   "source": [
    "# Python 装饰器"
   ]
  },
  {
   "cell_type": "markdown",
   "metadata": {},
   "source": [
    "装饰器（decorators）是 Python 中的一种高级功能，它允许你动态地修改函数或类的行为。\n",
    "\n",
    "装饰器是一种函数，它**接受一个函数**作为参数，并**返回一个新的函数**或修改原来的函数。\n",
    "\n",
    "装饰器的语法使用 *@decorator_name* 来应用在函数或方法上。"
   ]
  },
  {
   "cell_type": "markdown",
   "metadata": {},
   "source": [
    "## 基本用法"
   ]
  },
  {
   "cell_type": "markdown",
   "metadata": {},
   "source": [
    "decorator 是一个装饰器函数，它接受一个函数 func 作为参数，并返回一个内部函数 wrapper，在 wrapper 函数内部，你可以执行一些额外的操作，然后调用原始函数 func，并返回其结果。"
   ]
  },
  {
   "cell_type": "code",
   "execution_count": 1,
   "metadata": {},
   "outputs": [
    {
     "name": "stdout",
     "output_type": "stream",
     "text": [
      "在原函数之前执行\n",
      "Hello!\n",
      "在原函数之后执行\n"
     ]
    }
   ],
   "source": [
    "def my_decorator(func):\n",
    "    def wrapper():\n",
    "        print(\"在原函数之前执行\")\n",
    "        func()\n",
    "        print(\"在原函数之后执行\")\n",
    "    return wrapper\n",
    "\n",
    "@my_decorator\n",
    "def say_hello():\n",
    "    print(\"Hello!\")\n",
    "\n",
    "say_hello()"
   ]
  },
  {
   "cell_type": "markdown",
   "metadata": {},
   "source": [
    "## 带参数的装饰器"
   ]
  },
  {
   "cell_type": "markdown",
   "metadata": {},
   "source": [
    "如果原函数需要参数，可以在装饰器的 wrapper 函数中传递参数："
   ]
  },
  {
   "cell_type": "code",
   "execution_count": 2,
   "metadata": {},
   "outputs": [
    {
     "name": "stdout",
     "output_type": "stream",
     "text": [
      "在原函数之前执行\n",
      "Hello, Alice!\n",
      "在原函数之后执行\n"
     ]
    }
   ],
   "source": [
    "def my_decorator(func):\n",
    "    def wrapper(*args, **kwargs):\n",
    "        print(\"在原函数之前执行\")\n",
    "        func(*args, **kwargs)\n",
    "        print(\"在原函数之后执行\")\n",
    "    return wrapper\n",
    "\n",
    "@my_decorator\n",
    "def greet(name):\n",
    "    print(f\"Hello, {name}!\")\n",
    "\n",
    "greet(\"Alice\")"
   ]
  },
  {
   "cell_type": "markdown",
   "metadata": {},
   "source": [
    "装饰器本身也可以接受参数，此时需要额外定义一个外层函数："
   ]
  },
  {
   "cell_type": "code",
   "execution_count": 3,
   "metadata": {},
   "outputs": [
    {
     "name": "stdout",
     "output_type": "stream",
     "text": [
      "Hello!\n",
      "Hello!\n",
      "Hello!\n"
     ]
    }
   ],
   "source": [
    "def repeat(num_times):\n",
    "    def decorator(func):\n",
    "        def wrapper(*args, **kwargs):\n",
    "            for _ in range(num_times):\n",
    "                func(*args, **kwargs)\n",
    "        return wrapper\n",
    "    return decorator\n",
    "\n",
    "@repeat(3)\n",
    "def say_hello():\n",
    "    print(\"Hello!\")\n",
    "\n",
    "say_hello()"
   ]
  },
  {
   "cell_type": "markdown",
   "metadata": {},
   "source": [
    "## 类装饰器"
   ]
  },
  {
   "cell_type": "code",
   "execution_count": 4,
   "metadata": {},
   "outputs": [
    {
     "name": "stdout",
     "output_type": "stream",
     "text": [
      "在类方法之前执行\n",
      "这是 MyClass 的 display 方法\n",
      "在类方法之后执行\n"
     ]
    }
   ],
   "source": [
    "def my_decorator(cls):\n",
    "    class Wrapper:\n",
    "        def __init__(self, *args, **kwargs):\n",
    "            self.wrapped = cls(*args, **kwargs)\n",
    "\n",
    "        def display(self):\n",
    "            print(\"在类方法之前执行\")\n",
    "            self.wrapped.display()\n",
    "            print(\"在类方法之后执行\")\n",
    "    return Wrapper\n",
    "\n",
    "@my_decorator\n",
    "class MyClass:\n",
    "    def display(self):\n",
    "        print(\"这是 MyClass 的 display 方法\")\n",
    "\n",
    "obj = MyClass()\n",
    "obj.display()"
   ]
  },
  {
   "cell_type": "markdown",
   "metadata": {},
   "source": [
    "## 内置装饰器"
   ]
  },
  {
   "cell_type": "markdown",
   "metadata": {},
   "source": [
    "Python 提供了一些内置的装饰器，例如：\n",
    "\n",
    " - *@staticmethod*: 将方法定义为静态方法，不需要实例化类即可调用。\n",
    "\n",
    " - *@classmethod*: 将方法定义为类方法，第一个参数是类本身（通常命名为 cls）。\n",
    "\n",
    " - *@property*: 将方法转换为属性，使其可以像属性一样访问。"
   ]
  },
  {
   "cell_type": "code",
   "execution_count": 5,
   "metadata": {},
   "outputs": [
    {
     "name": "stdout",
     "output_type": "stream",
     "text": [
      "This is a static method.\n",
      "This is a class method of MyClass.\n",
      "Alice\n"
     ]
    }
   ],
   "source": [
    "class MyClass:\n",
    "    @staticmethod\n",
    "    def static_method():\n",
    "        print(\"This is a static method.\")\n",
    "\n",
    "    @classmethod\n",
    "    def class_method(cls):\n",
    "        print(f\"This is a class method of {cls.__name__}.\")\n",
    "\n",
    "    @property\n",
    "    def name(self):\n",
    "        return self._name\n",
    "\n",
    "    @name.setter\n",
    "    def name(self, value):\n",
    "        self._name = value\n",
    "\n",
    "# 使用\n",
    "MyClass.static_method()\n",
    "MyClass.class_method()\n",
    "\n",
    "obj = MyClass()\n",
    "obj.name = \"Alice\"\n",
    "print(obj.name)"
   ]
  },
  {
   "cell_type": "markdown",
   "metadata": {},
   "source": [
    "## 多个装饰器的堆叠"
   ]
  },
  {
   "cell_type": "code",
   "execution_count": 6,
   "metadata": {},
   "outputs": [
    {
     "name": "stdout",
     "output_type": "stream",
     "text": [
      "Decorator 1\n",
      "Decorator 2\n",
      "Hello!\n"
     ]
    }
   ],
   "source": [
    "def decorator1(func):\n",
    "    def wrapper():\n",
    "        print(\"Decorator 1\")\n",
    "        func()\n",
    "        # print(\"Decorator 1\")\n",
    "    return wrapper\n",
    "\n",
    "def decorator2(func):\n",
    "    def wrapper():\n",
    "        print(\"Decorator 2\")\n",
    "        func()\n",
    "        # print(\"Decorator 2\")\n",
    "    return wrapper\n",
    "\n",
    "@decorator1\n",
    "@decorator2\n",
    "def say_hello():\n",
    "    print(\"Hello!\")\n",
    "\n",
    "say_hello()\n",
    "# say_hello = decorator1(decorator2(say_hello))"
   ]
  }
 ],
 "metadata": {
  "kernelspec": {
   "display_name": "torch2",
   "language": "python",
   "name": "python3"
  },
  "language_info": {
   "codemirror_mode": {
    "name": "ipython",
    "version": 3
   },
   "file_extension": ".py",
   "mimetype": "text/x-python",
   "name": "python",
   "nbconvert_exporter": "python",
   "pygments_lexer": "ipython3",
   "version": "3.9.21"
  }
 },
 "nbformat": 4,
 "nbformat_minor": 2
}
